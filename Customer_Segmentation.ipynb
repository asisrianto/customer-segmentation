{
  "cells": [
    {
      "cell_type": "markdown",
      "id": "e044e429",
      "metadata": {
        "id": "e044e429"
      },
      "source": [
        "Import required dependencies"
      ]
    },
    {
      "cell_type": "code",
      "execution_count": 1,
      "id": "ebf0e0f6",
      "metadata": {
        "id": "ebf0e0f6"
      },
      "outputs": [],
      "source": [
        "import pandas as pd\n",
        "import matplotlib.pyplot as plt\n",
        "import seaborn as sns\n",
        "sns.set(style='white')"
      ]
    },
    {
      "cell_type": "markdown",
      "id": "76037865",
      "metadata": {
        "id": "76037865"
      },
      "source": [
        "Load the dataset"
      ]
    },
    {
      "cell_type": "code",
      "execution_count": 2,
      "id": "289c8009",
      "metadata": {
        "colab": {
          "base_uri": "https://localhost:8080/",
          "height": 34
        },
        "id": "289c8009",
        "outputId": "23e19de0-5a09-4e75-e42e-f8a3b04fcee7"
      },
      "outputs": [
        {
          "output_type": "display_data",
          "data": {
            "text/plain": [
              "<Figure size 432x288 with 0 Axes>"
            ]
          },
          "metadata": {}
        }
      ],
      "source": [
        "df = pd.read_csv(\"https://storage.googleapis.com/dqlab-dataset/customer_segments.txt\", sep=\"\\t\")\n",
        "plt.clf()"
      ]
    },
    {
      "cell_type": "markdown",
      "id": "e6782dd7",
      "metadata": {
        "id": "e6782dd7"
      },
      "source": [
        "Exploratory data analysis"
      ]
    },
    {
      "cell_type": "markdown",
      "id": "96996e14",
      "metadata": {
        "id": "96996e14"
      },
      "source": [
        "EDA for numerical columns"
      ]
    },
    {
      "cell_type": "code",
      "execution_count": 3,
      "id": "cda15085",
      "metadata": {
        "colab": {
          "base_uri": "https://localhost:8080/",
          "height": 1000
        },
        "id": "cda15085",
        "outputId": "2e64ff80-70d9-4a89-c918-90b5ae0e57a3"
      },
      "outputs": [
        {
          "output_type": "stream",
          "name": "stderr",
          "text": [
            "/usr/local/lib/python3.8/dist-packages/seaborn/_decorators.py:36: FutureWarning: Pass the following variable as a keyword arg: x. From version 0.12, the only valid positional argument will be `data`, and passing other arguments without an explicit keyword will result in an error or misinterpretation.\n",
            "  warnings.warn(\n",
            "/usr/local/lib/python3.8/dist-packages/seaborn/distributions.py:2619: FutureWarning: `distplot` is a deprecated function and will be removed in a future version. Please adapt your code to use either `displot` (a figure-level function with similar flexibility) or `histplot` (an axes-level function for histograms).\n",
            "  warnings.warn(msg, FutureWarning)\n",
            "/usr/local/lib/python3.8/dist-packages/seaborn/_decorators.py:36: FutureWarning: Pass the following variable as a keyword arg: x. From version 0.12, the only valid positional argument will be `data`, and passing other arguments without an explicit keyword will result in an error or misinterpretation.\n",
            "  warnings.warn(\n",
            "/usr/local/lib/python3.8/dist-packages/seaborn/distributions.py:2619: FutureWarning: `distplot` is a deprecated function and will be removed in a future version. Please adapt your code to use either `displot` (a figure-level function with similar flexibility) or `histplot` (an axes-level function for histograms).\n",
            "  warnings.warn(msg, FutureWarning)\n"
          ]
        },
        {
          "output_type": "stream",
          "name": "stdout",
          "text": [
            "  adjustable: {'box', 'datalim'}\n",
            "  agg_filter: a filter function, which takes a (m, n, 3) float array and a dpi value, and returns a (m, n, 3) array\n",
            "  alpha: float or None\n",
            "  anchor: 2-tuple of floats or {'C', 'SW', 'S', 'SE', ...}\n",
            "  animated: bool\n",
            "  aspect: {'auto', 'equal'} or num\n",
            "  autoscale_on: bool\n",
            "  autoscalex_on: bool\n",
            "  autoscaley_on: bool\n",
            "  axes_locator: Callable[[Axes, Renderer], Bbox]\n",
            "  axisbelow: bool or 'line'\n",
            "  clip_box: `.Bbox`\n",
            "  clip_on: bool\n",
            "  clip_path: Patch or (Path, Transform) or None\n",
            "  contains: callable\n",
            "  facecolor: color\n",
            "  fc: color\n",
            "  figure: `.Figure`\n",
            "  frame_on: bool\n",
            "  gid: str\n",
            "  in_layout: bool\n",
            "  label: object\n",
            "  navigate: bool\n",
            "  navigate_mode: unknown\n",
            "  path_effects: `.AbstractPathEffect`\n",
            "  picker: None or bool or float or callable\n",
            "  position: [left, bottom, width, height] or `~matplotlib.transforms.Bbox`\n",
            "  prop_cycle: unknown\n",
            "  rasterization_zorder: float or None\n",
            "  rasterized: bool or None\n",
            "  sketch_params: (scale: float, length: float, randomness: float)\n",
            "  snap: bool or None\n",
            "  subplotspec: unknown\n",
            "  title: str\n",
            "  transform: `.Transform`\n",
            "  url: str\n",
            "  visible: bool\n",
            "  xbound: unknown\n",
            "  xlabel: str\n",
            "  xlim: (bottom: float, top: float)\n",
            "  xmargin: float greater than -0.5\n",
            "  xscale: {\"linear\", \"log\", \"symlog\", \"logit\", ...}\n",
            "  xticklabels: List[str]\n",
            "  xticks: unknown\n",
            "  ybound: unknown\n",
            "  ylabel: str\n",
            "  ylim: (bottom: float, top: float)\n",
            "  ymargin: float greater than -0.5\n",
            "  yscale: {\"linear\", \"log\", \"symlog\", \"logit\", ...}\n",
            "  yticklabels: List[str]\n",
            "  yticks: unknown\n",
            "  zorder: float\n"
          ]
        },
        {
          "output_type": "display_data",
          "data": {
            "text/plain": [
              "<Figure size 720x648 with 4 Axes>"
            ],
            "image/png": "[encoded data removed]"
          },
          "metadata": {}
        }
      ],
      "source": [
        "#plotting function\n",
        "def observasi_num(features):\n",
        "    fig, axs = plt.subplots(2, 2, figsize=(10,9))\n",
        "    for i, kol in enumerate(features):\n",
        "        sns.boxplot(df[kol], ax=axs[i][0])\n",
        "        sns.distplot(df[kol], ax=axs[i][0])\n",
        "        axs[i][0].set_title('mean = %.2f\\n median = %.2f\\n std = %.2f'%(df[kol].mean(), df[kol].median(), df[kol].std()))\n",
        "    plt.setp(axs)\n",
        "    plt.tight_layout()\n",
        "    plt.show()\n",
        "    \n",
        "kolom_numerik = ['Umur', 'NilaiBelanjaSetahun']\n",
        "observasi_num(kolom_numerik)"
      ]
    },
    {
      "cell_type": "markdown",
      "id": "9a6b5ab4",
      "metadata": {
        "id": "9a6b5ab4"
      },
      "source": [
        "EDA for categorical columns"
      ]
    },
    {
      "cell_type": "code",
      "execution_count": 4,
      "id": "f9acb965",
      "metadata": {
        "colab": {
          "base_uri": "https://localhost:8080/",
          "height": 1000
        },
        "id": "f9acb965",
        "outputId": "6f44b8ed-20a0-47d1-a016-448516e6b818"
      },
      "outputs": [
        {
          "output_type": "stream",
          "name": "stderr",
          "text": [
            "/usr/local/lib/python3.8/dist-packages/seaborn/_decorators.py:36: FutureWarning: Pass the following variable as a keyword arg: x. From version 0.12, the only valid positional argument will be `data`, and passing other arguments without an explicit keyword will result in an error or misinterpretation.\n",
            "  warnings.warn(\n",
            "/usr/local/lib/python3.8/dist-packages/seaborn/_decorators.py:36: FutureWarning: Pass the following variable as a keyword arg: x. From version 0.12, the only valid positional argument will be `data`, and passing other arguments without an explicit keyword will result in an error or misinterpretation.\n",
            "  warnings.warn(\n"
          ]
        },
        {
          "output_type": "stream",
          "name": "stdout",
          "text": [
            "  adjustable: {'box', 'datalim'}\n",
            "  agg_filter: a filter function, which takes a (m, n, 3) float array and a dpi value, and returns a (m, n, 3) array\n",
            "  alpha: float or None\n",
            "  anchor: 2-tuple of floats or {'C', 'SW', 'S', 'SE', ...}\n",
            "  animated: bool\n",
            "  aspect: {'auto', 'equal'} or num\n",
            "  autoscale_on: bool\n",
            "  autoscalex_on: bool\n",
            "  autoscaley_on: bool\n",
            "  axes_locator: Callable[[Axes, Renderer], Bbox]\n",
            "  axisbelow: bool or 'line'\n",
            "  clip_box: `.Bbox`\n",
            "  clip_on: bool\n",
            "  clip_path: Patch or (Path, Transform) or None\n",
            "  contains: callable\n",
            "  facecolor: color\n",
            "  fc: color\n",
            "  figure: `.Figure`\n",
            "  frame_on: bool\n",
            "  gid: str\n",
            "  in_layout: bool\n",
            "  label: object\n",
            "  navigate: bool\n",
            "  navigate_mode: unknown\n",
            "  path_effects: `.AbstractPathEffect`\n",
            "  picker: None or bool or float or callable\n",
            "  position: [left, bottom, width, height] or `~matplotlib.transforms.Bbox`\n",
            "  prop_cycle: unknown\n",
            "  rasterization_zorder: float or None\n",
            "  rasterized: bool or None\n",
            "  sketch_params: (scale: float, length: float, randomness: float)\n",
            "  snap: bool or None\n",
            "  subplotspec: unknown\n",
            "  title: str\n",
            "  transform: `.Transform`\n",
            "  url: str\n",
            "  visible: bool\n",
            "  xbound: unknown\n",
            "  xlabel: str\n",
            "  xlim: (bottom: float, top: float)\n",
            "  xmargin: float greater than -0.5\n",
            "  xscale: {\"linear\", \"log\", \"symlog\", \"logit\", ...}\n",
            "  xticklabels: List[str]\n",
            "  xticks: unknown\n",
            "  ybound: unknown\n",
            "  ylabel: str\n",
            "  ylim: (bottom: float, top: float)\n",
            "  ymargin: float greater than -0.5\n",
            "  yscale: {\"linear\", \"log\", \"symlog\", \"logit\", ...}\n",
            "  yticklabels: List[str]\n",
            "  yticks: unknown\n",
            "  zorder: float\n",
            "  adjustable: {'box', 'datalim'}\n",
            "  agg_filter: a filter function, which takes a (m, n, 3) float array and a dpi value, and returns a (m, n, 3) array\n",
            "  alpha: float or None\n",
            "  anchor: 2-tuple of floats or {'C', 'SW', 'S', 'SE', ...}\n",
            "  animated: bool\n",
            "  aspect: {'auto', 'equal'} or num\n",
            "  autoscale_on: bool\n",
            "  autoscalex_on: bool\n",
            "  autoscaley_on: bool\n",
            "  axes_locator: Callable[[Axes, Renderer], Bbox]\n",
            "  axisbelow: bool or 'line'\n",
            "  clip_box: `.Bbox`\n",
            "  clip_on: bool\n",
            "  clip_path: Patch or (Path, Transform) or None\n",
            "  contains: callable\n",
            "  facecolor: color\n",
            "  fc: color\n",
            "  figure: `.Figure`\n",
            "  frame_on: bool\n",
            "  gid: str\n",
            "  in_layout: bool\n",
            "  label: object\n",
            "  navigate: bool\n",
            "  navigate_mode: unknown\n",
            "  path_effects: `.AbstractPathEffect`\n",
            "  picker: None or bool or float or callable\n",
            "  position: [left, bottom, width, height] or `~matplotlib.transforms.Bbox`\n",
            "  prop_cycle: unknown\n",
            "  rasterization_zorder: float or None\n",
            "  rasterized: bool or None\n",
            "  sketch_params: (scale: float, length: float, randomness: float)\n",
            "  snap: bool or None\n",
            "  subplotspec: unknown\n",
            "  title: str\n",
            "  transform: `.Transform`\n",
            "  url: str\n",
            "  visible: bool\n",
            "  xbound: unknown\n",
            "  xlabel: str\n",
            "  xlim: (bottom: float, top: float)\n",
            "  xmargin: float greater than -0.5\n",
            "  xscale: {\"linear\", \"log\", \"symlog\", \"logit\", ...}\n",
            "  xticklabels: List[str]\n",
            "  xticks: unknown\n",
            "  ybound: unknown\n",
            "  ylabel: str\n",
            "  ylim: (bottom: float, top: float)\n",
            "  ymargin: float greater than -0.5\n",
            "  yscale: {\"linear\", \"log\", \"symlog\", \"logit\", ...}\n",
            "  yticklabels: List[str]\n",
            "  yticks: unknown\n",
            "  zorder: float\n"
          ]
        },
        {
          "output_type": "stream",
          "name": "stderr",
          "text": [
            "/usr/local/lib/python3.8/dist-packages/seaborn/_decorators.py:36: FutureWarning: Pass the following variable as a keyword arg: x. From version 0.12, the only valid positional argument will be `data`, and passing other arguments without an explicit keyword will result in an error or misinterpretation.\n",
            "  warnings.warn(\n"
          ]
        },
        {
          "output_type": "stream",
          "name": "stdout",
          "text": [
            "  adjustable: {'box', 'datalim'}\n",
            "  agg_filter: a filter function, which takes a (m, n, 3) float array and a dpi value, and returns a (m, n, 3) array\n",
            "  alpha: float or None\n",
            "  anchor: 2-tuple of floats or {'C', 'SW', 'S', 'SE', ...}\n",
            "  animated: bool\n",
            "  aspect: {'auto', 'equal'} or num\n",
            "  autoscale_on: bool\n",
            "  autoscalex_on: bool\n",
            "  autoscaley_on: bool\n",
            "  axes_locator: Callable[[Axes, Renderer], Bbox]\n",
            "  axisbelow: bool or 'line'\n",
            "  clip_box: `.Bbox`\n",
            "  clip_on: bool\n",
            "  clip_path: Patch or (Path, Transform) or None\n",
            "  contains: callable\n",
            "  facecolor: color\n",
            "  fc: color\n",
            "  figure: `.Figure`\n",
            "  frame_on: bool\n",
            "  gid: str\n",
            "  in_layout: bool\n",
            "  label: object\n",
            "  navigate: bool\n",
            "  navigate_mode: unknown\n",
            "  path_effects: `.AbstractPathEffect`\n",
            "  picker: None or bool or float or callable\n",
            "  position: [left, bottom, width, height] or `~matplotlib.transforms.Bbox`\n",
            "  prop_cycle: unknown\n",
            "  rasterization_zorder: float or None\n",
            "  rasterized: bool or None\n",
            "  sketch_params: (scale: float, length: float, randomness: float)\n",
            "  snap: bool or None\n",
            "  subplotspec: unknown\n",
            "  title: str\n",
            "  transform: `.Transform`\n",
            "  url: str\n",
            "  visible: bool\n",
            "  xbound: unknown\n",
            "  xlabel: str\n",
            "  xlim: (bottom: float, top: float)\n",
            "  xmargin: float greater than -0.5\n",
            "  xscale: {\"linear\", \"log\", \"symlog\", \"logit\", ...}\n",
            "  xticklabels: List[str]\n",
            "  xticks: unknown\n",
            "  ybound: unknown\n",
            "  ylabel: str\n",
            "  ylim: (bottom: float, top: float)\n",
            "  ymargin: float greater than -0.5\n",
            "  yscale: {\"linear\", \"log\", \"symlog\", \"logit\", ...}\n",
            "  yticklabels: List[str]\n",
            "  yticks: unknown\n",
            "  zorder: float\n"
          ]
        },
        {
          "output_type": "display_data",
          "data": {
            "text/plain": [
              "<Figure size 504x720 with 3 Axes>"
            ],
            "image/png": "[encoded data removed]"
          },
          "metadata": {}
        },
        {
          "output_type": "display_data",
          "data": {
            "text/plain": [
              "<Figure size 504x720 with 3 Axes>"
            ],
            "image/png": "[encoded data removed]"
          },
          "metadata": {}
        }
      ],
      "source": [
        "#preparing the columns\n",
        "kolom_kategorikal = ['Jenis Kelamin', 'Profesi', 'Tipe Residen']\n",
        "fig, axs = plt.subplots(3, 1, figsize=(7,10))\n",
        "\n",
        "#creating canvas\n",
        "fig, axs = plt.subplots(3,1,figsize=(7,10)) \n",
        "\n",
        "#creating plot for each category column\n",
        "for i, kol in enumerate(kolom_kategorikal):  \n",
        "\n",
        "    #plotting\n",
        "    sns.countplot(df[kol], order = df[kol].value_counts().index, ax = axs[i])  \n",
        "    axs[i].set_title('\\nCount Plot %s\\n'%(kol), fontsize=15)        \n",
        "\n",
        "    #anotating  \n",
        "    for p in axs[i].patches:  \n",
        "        axs[i].annotate(format(p.get_height(), '.0f'),  \n",
        "                        (p.get_x() + p.get_width() / 2., p.get_height()),  \n",
        "                        ha = 'center',  \n",
        "                        va = 'center',  \n",
        "                        xytext = (0, 10),  \n",
        "                        textcoords = 'offset points') \n",
        "          \n",
        "    #setting the plot  \n",
        "    sns.despine(right=True, top=True, left=True)  \n",
        "    axs[i].axes.yaxis.set_visible(False) \n",
        "    plt.setp(axs[i])\n",
        "    plt.tight_layout()\n",
        "\n",
        "plt.show()"
      ]
    },
    {
      "cell_type": "markdown",
      "id": "1bfd8dc4",
      "metadata": {
        "id": "1bfd8dc4"
      },
      "source": [
        "Data Preparation"
      ]
    },
    {
      "cell_type": "code",
      "execution_count": 5,
      "id": "d6d4c501",
      "metadata": {
        "colab": {
          "base_uri": "https://localhost:8080/"
        },
        "id": "d6d4c501",
        "outputId": "d06d4aad-cd2c-4844-cae0-b008cc8aa26b"
      },
      "outputs": [
        {
          "output_type": "stream",
          "name": "stdout",
          "text": [
            "Statistik Sebelum Standardisasi\n",
            "\n",
            "       Umur  NilaiBelanjaSetahun\n",
            "count  50.0                 50.0\n",
            "mean   37.5            7069874.8\n",
            "std    14.7            2590619.0\n",
            "min    14.0            2722700.0\n",
            "25%    25.0            5257529.8\n",
            "50%    35.0            5980077.0\n",
            "75%    49.8            9739615.0\n",
            "max    64.0           10884508.0\n",
            "Contoh hasil standardisasi\n",
            "\n",
            "       Umur  NilaiBelanjaSetahun\n",
            "0  1.411245             0.946763\n",
            "1 -1.617768            -1.695081\n",
            "2  0.722833            -0.695414\n",
            "3  1.067039            -0.727361\n",
            "4  0.240944             1.382421\n",
            "Statistik hasil standardisasi\n",
            "\n",
            "       Umur  NilaiBelanjaSetahun\n",
            "count  50.0                 50.0\n",
            "mean   -0.0                 -0.0\n",
            "std     1.0                  1.0\n",
            "min    -2.0                 -2.0\n",
            "25%    -1.0                 -1.0\n",
            "50%    -0.0                 -0.0\n",
            "75%     1.0                  1.0\n",
            "max     2.0                  1.0\n"
          ]
        }
      ],
      "source": [
        "#Mempersiapkan data sebelum pemodelan\n",
        "\n",
        "#Standarisasi kolom numerik\n",
        "import pandas as pd\n",
        "df = pd.read_csv(\"https://storage.googleapis.com/dqlab-dataset/customer_segments.txt\", sep=\"\\t\")\n",
        "\n",
        "from sklearn.preprocessing import StandardScaler  \n",
        "  \n",
        "kolom_numerik = ['Umur','NilaiBelanjaSetahun']  \n",
        "  \n",
        "# Statistik sebelum Standardisasi  \n",
        "print('Statistik Sebelum Standardisasi\\n')  \n",
        "print(df[kolom_numerik].describe().round(1))  \n",
        "  \n",
        "# Standardisasi  \n",
        "df_std = StandardScaler().fit_transform(df[kolom_numerik])  \n",
        "  \n",
        "# Membuat DataFrame  \n",
        "df_std = pd.DataFrame(data=df_std, index=df.index, columns=df[kolom_numerik].columns)  \n",
        "  \n",
        "# Menampilkan contoh isi data dan summary statistic  \n",
        "print('Contoh hasil standardisasi\\n')  \n",
        "print(df_std.head())  \n",
        "  \n",
        "print('Statistik hasil standardisasi\\n')  \n",
        "print(df_std.describe().round(0))  "
      ]
    },
    {
      "cell_type": "code",
      "execution_count": 6,
      "id": "8e21a688",
      "metadata": {
        "colab": {
          "base_uri": "https://localhost:8080/"
        },
        "id": "8e21a688",
        "outputId": "f4e2cc0d-30d1-40f7-8e6b-df9a1095d2fc"
      },
      "outputs": [
        {
          "output_type": "stream",
          "name": "stdout",
          "text": [
            "   Jenis Kelamin  Profesi  Tipe Residen\n",
            "0              0        4             1\n",
            "1              1        2             0\n",
            "2              0        3             0\n",
            "3              0        3             0\n",
            "4              1        4             0\n"
          ]
        }
      ],
      "source": [
        "#Konversi Kategorikal Data dengan Label Encoder (menjadi kolom numerik)\n",
        "\n",
        "from sklearn.preprocessing import LabelEncoder\n",
        "  \n",
        "# Inisiasi nama kolom kategorikal  \n",
        "kolom_kategorikal = ['Jenis Kelamin','Profesi','Tipe Residen']  \n",
        "  \n",
        "# Membuat salinan data frame  \n",
        "df_encode = df[kolom_kategorikal].copy()  \n",
        "  \n",
        "  \n",
        "# Melakukan labelEncoder untuk semua kolom kategorikal  \n",
        "for col in kolom_kategorikal:  \n",
        "    df_encode[col]= LabelEncoder().fit_transform(df_encode[col])\n",
        "      \n",
        "# Menampilkan data  \n",
        "print(df_encode.head())"
      ]
    },
    {
      "cell_type": "code",
      "execution_count": 7,
      "id": "82eb4ea0",
      "metadata": {
        "colab": {
          "base_uri": "https://localhost:8080/"
        },
        "id": "82eb4ea0",
        "outputId": "0de8cbd1-cee2-4ee9-b674-8ca1845b4f8a"
      },
      "outputs": [
        {
          "output_type": "stream",
          "name": "stdout",
          "text": [
            "   Jenis Kelamin  Profesi  Tipe Residen      Umur  NilaiBelanjaSetahun\n",
            "0              0        4             1  1.411245             0.946763\n",
            "1              1        2             0 -1.617768            -1.695081\n",
            "2              0        3             0  0.722833            -0.695414\n",
            "3              0        3             0  1.067039            -0.727361\n",
            "4              1        4             0  0.240944             1.382421\n"
          ]
        }
      ],
      "source": [
        "#Menggabungkan Data untuk Permodelan\n",
        "\n",
        "kolom_numerik  = ['Umur','NilaiBelanjaSetahun']\n",
        "df_std = StandardScaler().fit_transform(df[kolom_numerik])\n",
        "df_std = pd.DataFrame(data=df_std, index=df.index, columns=df[kolom_numerik].columns)\n",
        " \n",
        "kolom_kategorikal = ['Jenis Kelamin','Profesi','Tipe Residen']\n",
        "df_encode = df[kolom_kategorikal].copy()\n",
        "for col in kolom_kategorikal:\n",
        "    df_encode[col] = LabelEncoder().fit_transform(df_encode[col])\n",
        "\n",
        "# Menggabungkan data frame\n",
        "df_model = df_encode.merge(df_std, left_index = True, right_index=True, how= 'left')  \n",
        "print(df_model.head())"
      ]
    },
    {
      "cell_type": "markdown",
      "id": "6df48ea3",
      "metadata": {
        "id": "6df48ea3"
      },
      "source": [
        "PART 2"
      ]
    },
    {
      "cell_type": "markdown",
      "id": "6a4f6cc6",
      "metadata": {
        "id": "6a4f6cc6"
      },
      "source": [
        "PEMODELAN"
      ]
    },
    {
      "cell_type": "code",
      "execution_count": 8,
      "id": "af7ecdb8",
      "metadata": {
        "colab": {
          "base_uri": "https://localhost:8080/",
          "height": 519
        },
        "id": "af7ecdb8",
        "outputId": "b665a77d-7ccc-465b-f95a-dfd0c75a8dd0"
      },
      "outputs": [
        {
          "output_type": "display_data",
          "data": {
            "text/plain": [
              "<Figure size 432x288 with 1 Axes>"
            ],
            "image/png": "[encoded data removed]"
          },
          "metadata": {}
        },
        {
          "output_type": "display_data",
          "data": {
            "text/plain": [
              "<Figure size 432x288 with 1 Axes>"
            ],
            "image/png": "[encoded data removed]"
          },
          "metadata": {}
        }
      ],
      "source": [
        "#Mencari Jumlah Cluster yang Optimal\n",
        "\n",
        "from kmodes.kmodes import KModes  \n",
        "from kmodes.kprototypes import KPrototypes  \n",
        "import pandas as pd\n",
        "import seaborn as sns\n",
        "import matplotlib.pyplot as plt  \n",
        "df_model = pd.read_csv('https://storage.googleapis.com/dqlab-dataset/df-customer-segmentation.csv')\n",
        "\n",
        "# Melakukan Iterasi untuk Mendapatkan nilai Cost  \n",
        "cost = {}  \n",
        "for k in range(2,10):  \n",
        "    kproto = KPrototypes (n_clusters = k,random_state=75)  \n",
        "    kproto.fit_predict(df_model, categorical=[0,1,2])  \n",
        "    cost [k]= kproto.cost_  \n",
        "  \n",
        "# Memvisualisasikan Elbow Plot  \n",
        "sns.pointplot(x=list(cost.keys()), y=list(cost.values()))  \n",
        "plt.show()#Mencari Jumlah Cluster yang Optimal\n",
        "\n",
        "from kmodes.kmodes import KModes  \n",
        "from kmodes.kprototypes import KPrototypes  \n",
        "import pandas as pd\n",
        "import seaborn as sns\n",
        "import matplotlib.pyplot as plt  \n",
        "df_model = pd.read_csv('https://storage.googleapis.com/dqlab-dataset/df-customer-segmentation.csv')\n",
        "\n",
        "# Melakukan Iterasi untuk Mendapatkan nilai Cost  \n",
        "cost = {}  \n",
        "for k in range(2,10):  \n",
        "    kproto = KPrototypes (n_clusters = k,random_state=75)  \n",
        "    kproto.fit_predict(df_model, categorical=[0,1,2])  \n",
        "    cost [k]= kproto.cost_  \n",
        "  \n",
        "# Memvisualisasikan Elbow Plot  \n",
        "sns.pointplot(x=list(cost.keys()), y=list(cost.values()))  \n",
        "plt.show()"
      ]
    },
    {
      "cell_type": "code",
      "execution_count": 9,
      "id": "dd377fbc",
      "metadata": {
        "id": "dd377fbc"
      },
      "outputs": [],
      "source": [
        "#Membuat Model\n",
        "\n",
        "import pickle  \n",
        "from kmodes.kmodes import KModes  \n",
        "from kmodes.kprototypes import KPrototypes  \n",
        "  \n",
        "kproto = KPrototypes(n_clusters = 5, random_state = 75)  \n",
        "kproto = kproto.fit(df_model, categorical=[0,1,2])  \n",
        "  \n",
        "#Save Model  \n",
        "pickle.dump(kproto, open('cluster.pkl', 'wb')) "
      ]
    },
    {
      "cell_type": "code",
      "execution_count": 10,
      "id": "4cfcbc5f",
      "metadata": {
        "colab": {
          "base_uri": "https://localhost:8080/"
        },
        "id": "4cfcbc5f",
        "outputId": "e06e296d-cfdf-40ca-a530-14c05c3be357"
      },
      "outputs": [
        {
          "output_type": "stream",
          "name": "stdout",
          "text": [
            "segmen pelanggan: [3 1 2 2 0 4 3 2 4 4 2 2 3 3 0 4 4 2 0 1 0 2 4 0 0 2 0 4 2 2 1 3 1 0 4 0 4\n",
            " 3 4 1 4 0 4 0 4 0 2 3 4 3]\n",
            "\n",
            "  Customer_ID       Nama Pelanggan Jenis Kelamin  Umur       Profesi  \\\n",
            "0    CUST-001         Budi Anggara          Pria    58    Wiraswasta   \n",
            "1    CUST-002     Shirley Ratuwati        Wanita    14       Pelajar   \n",
            "2    CUST-003         Agus Cahyono          Pria    48  Professional   \n",
            "3    CUST-004     Antonius Winarta          Pria    53  Professional   \n",
            "4    CUST-005  Ibu Sri Wahyuni, IR        Wanita    41    Wiraswasta   \n",
            "\n",
            "  Tipe Residen  NilaiBelanjaSetahun  cluster  \n",
            "0       Sector              9497927        3  \n",
            "1      Cluster              2722700        1  \n",
            "2      Cluster              5286429        2  \n",
            "3      Cluster              5204498        2  \n",
            "4      Cluster             10615206        0  \n"
          ]
        }
      ],
      "source": [
        "#Menggunakan Model\n",
        "\n",
        "import pandas as pd\n",
        "from kmodes.kmodes import KModes  \n",
        "from kmodes.kprototypes import KPrototypes  \n",
        "df = pd.read_csv(\"https://storage.googleapis.com/dqlab-dataset/customer_segments.txt\", sep=\"\\t\") \n",
        "df_model = pd.read_csv('https://storage.googleapis.com/dqlab-dataset/df-customer-segmentation.csv')\n",
        "kproto = KPrototypes(n_clusters=5, random_state = 75)  \n",
        "kproto = kproto.fit(df_model, categorical=[0,1,2])  \n",
        "\n",
        "# Menentukan segmen tiap pelanggan    \n",
        "clusters =  kproto.predict(df_model, categorical=[0,1,2])    \n",
        "print('segmen pelanggan: {}\\n'.format(clusters))    \n",
        "    \n",
        "# Menggabungkan data awal dan segmen pelanggan    \n",
        "df_final = df.copy()    \n",
        "df_final['cluster'] = clusters\n",
        "print(df_final.head())   "
      ]
    },
    {
      "cell_type": "code",
      "execution_count": 11,
      "id": "8769de20",
      "metadata": {
        "colab": {
          "base_uri": "https://localhost:8080/"
        },
        "id": "8769de20",
        "outputId": "4ed548f7-02f5-4992-a90a-8140a7a5a4f5"
      },
      "outputs": [
        {
          "output_type": "stream",
          "name": "stdout",
          "text": [
            "\n",
            "Pelanggan cluster: 0\n",
            "\n",
            "   Customer_ID       Nama Pelanggan Jenis Kelamin  Umur     Profesi  \\\n",
            "4     CUST-005  Ibu Sri Wahyuni, IR        Wanita    41  Wiraswasta   \n",
            "14    CUST-015     Shirley Ratuwati        Wanita    20  Wiraswasta   \n",
            "18    CUST-019         Mega Pranoto        Wanita    32  Wiraswasta   \n",
            "20    CUST-021     Lestari Fabianto        Wanita    38  Wiraswasta   \n",
            "23    CUST-024        Putri Ginting        Wanita    39  Wiraswasta   \n",
            "24    CUST-025       Julia Setiawan        Wanita    29  Wiraswasta   \n",
            "26    CUST-027        Grace Mulyati        Wanita    35  Wiraswasta   \n",
            "33    CUST-034       Deasy Arisandi        Wanita    21  Wiraswasta   \n",
            "35    CUST-036       Ni Made Suasti        Wanita    30  Wiraswasta   \n",
            "41    CUST-042         Yuliana Wati        Wanita    26  Wiraswasta   \n",
            "43    CUST-044                 Anna        Wanita    18  Wiraswasta   \n",
            "45    CUST-046         Elfira Surya        Wanita    25  Wiraswasta   \n",
            "\n",
            "   Tipe Residen  NilaiBelanjaSetahun  cluster  \n",
            "4       Cluster             10615206        0  \n",
            "14      Cluster             10365668        0  \n",
            "18      Cluster             10884508        0  \n",
            "20      Cluster              9222070        0  \n",
            "23      Cluster             10259572        0  \n",
            "24       Sector             10721998        0  \n",
            "26      Cluster              9114159        0  \n",
            "33       Sector              9759822        0  \n",
            "35      Cluster              9678994        0  \n",
            "41      Cluster              9880607        0  \n",
            "43      Cluster              9339737        0  \n",
            "45       Sector             10099807        0  \n",
            "\n",
            "Pelanggan cluster: 1\n",
            "\n",
            "   Customer_ID    Nama Pelanggan Jenis Kelamin  Umur    Profesi Tipe Residen  \\\n",
            "1     CUST-002  Shirley Ratuwati        Wanita    14    Pelajar      Cluster   \n",
            "19    CUST-020    Irene Novianto        Wanita    16    Pelajar       Sector   \n",
            "30    CUST-031     Eviana Handry        Wanita    19  Mahasiswa      Cluster   \n",
            "32    CUST-033   Cecilia Kusnadi        Wanita    19  Mahasiswa      Cluster   \n",
            "39    CUST-040    Irene Darmawan        Wanita    14    Pelajar       Sector   \n",
            "\n",
            "    NilaiBelanjaSetahun  cluster  \n",
            "1               2722700        1  \n",
            "19              2896845        1  \n",
            "30              3042773        1  \n",
            "32              3047926        1  \n",
            "39              2861855        1  \n",
            "\n",
            "Pelanggan cluster: 2\n",
            "\n",
            "   Customer_ID     Nama Pelanggan Jenis Kelamin  Umur           Profesi  \\\n",
            "2     CUST-003       Agus Cahyono          Pria    48      Professional   \n",
            "3     CUST-004   Antonius Winarta          Pria    53      Professional   \n",
            "7     CUST-008     Danang Santosa          Pria    52      Professional   \n",
            "10    CUST-011     Maria Suryawan        Wanita    50      Professional   \n",
            "11    CUST-012    Erliana Widjaja        Wanita    49      Professional   \n",
            "17    CUST-018        Nelly Halim        Wanita    63  Ibu Rumah Tangga   \n",
            "21    CUST-022       Novita Purba        Wanita    52      Professional   \n",
            "25    CUST-026  Christine Winarto        Wanita    55      Professional   \n",
            "28    CUST-029       Tia Hartanti        Wanita    56      Professional   \n",
            "29    CUST-030     Rosita Saragih        Wanita    46  Ibu Rumah Tangga   \n",
            "46    CUST-047        Mira Kurnia        Wanita    55  Ibu Rumah Tangga   \n",
            "\n",
            "   Tipe Residen  NilaiBelanjaSetahun  cluster  \n",
            "2       Cluster              5286429        2  \n",
            "3       Cluster              5204498        2  \n",
            "7       Cluster              5223569        2  \n",
            "10       Sector              5987367        2  \n",
            "11       Sector              5941914        2  \n",
            "17      Cluster              5340690        2  \n",
            "21      Cluster              5298157        2  \n",
            "25      Cluster              5269392        2  \n",
            "28      Cluster              5271845        2  \n",
            "29       Sector              5020976        2  \n",
            "46      Cluster              6130724        2  \n",
            "\n",
            "Pelanggan cluster: 3\n",
            "\n",
            "   Customer_ID    Nama Pelanggan Jenis Kelamin  Umur     Profesi Tipe Residen  \\\n",
            "0     CUST-001      Budi Anggara          Pria    58  Wiraswasta       Sector   \n",
            "6     CUST-007     Cahyono, Agus          Pria    64  Wiraswasta       Sector   \n",
            "12    CUST-013      Cahaya Putri        Wanita    64  Wiraswasta      Cluster   \n",
            "13    CUST-014    Mario Setiawan          Pria    60  Wiraswasta      Cluster   \n",
            "31    CUST-032   Chintya Winarni        Wanita    47  Wiraswasta       Sector   \n",
            "37    CUST-038      Agatha Salim        Wanita    46  Wiraswasta       Sector   \n",
            "47    CUST-048  Maria Hutagalung        Wanita    45  Wiraswasta       Sector   \n",
            "49    CUST-050    Lianna Nugraha        Wanita    55  Wiraswasta       Sector   \n",
            "\n",
            "    NilaiBelanjaSetahun  cluster  \n",
            "0               9497927        3  \n",
            "6               9837260        3  \n",
            "12              9333168        3  \n",
            "13              9471615        3  \n",
            "31             10663179        3  \n",
            "37             10477127        3  \n",
            "47             10390732        3  \n",
            "49             10569316        3  \n",
            "\n",
            "Pelanggan cluster: 4\n",
            "\n",
            "   Customer_ID         Nama Pelanggan Jenis Kelamin  Umur           Profesi  \\\n",
            "5     CUST-006        Rosalina Kurnia        Wanita    24      Professional   \n",
            "8     CUST-009  Elisabeth Suryadinata        Wanita    29      Professional   \n",
            "9     CUST-010         Mario Setiawan          Pria    33      Professional   \n",
            "15    CUST-016           Bambang Rudi          Pria    35      Professional   \n",
            "16    CUST-017              Yuni Sari        Wanita    32  Ibu Rumah Tangga   \n",
            "22    CUST-023        Denny Amiruddin          Pria    34      Professional   \n",
            "27    CUST-028          Adeline Huang        Wanita    40  Ibu Rumah Tangga   \n",
            "34    CUST-035                Ida Ayu        Wanita    39      Professional   \n",
            "36    CUST-037       Felicia Tandiono        Wanita    25      Professional   \n",
            "38    CUST-039           Gina Hidayat        Wanita    20      Professional   \n",
            "40    CUST-041       Shinta Aritonang        Wanita    24  Ibu Rumah Tangga   \n",
            "42    CUST-043           Yenna Sumadi        Wanita    31      Professional   \n",
            "44    CUST-045         Rismawati Juni        Wanita    22      Professional   \n",
            "48    CUST-049        Josephine Wahab        Wanita    33  Ibu Rumah Tangga   \n",
            "\n",
            "   Tipe Residen  NilaiBelanjaSetahun  cluster  \n",
            "5       Cluster              5215541        4  \n",
            "8        Sector              5993218        4  \n",
            "9       Cluster              5257448        4  \n",
            "15      Cluster              5262521        4  \n",
            "16      Cluster              5677762        4  \n",
            "22      Cluster              5239290        4  \n",
            "27      Cluster              6631680        4  \n",
            "34       Sector              5962575        4  \n",
            "36       Sector              5972787        4  \n",
            "38      Cluster              5257775        4  \n",
            "40      Cluster              6820976        4  \n",
            "42      Cluster              5268410        4  \n",
            "44      Cluster              5211041        4  \n",
            "48       Sector              4992585        4  \n"
          ]
        }
      ],
      "source": [
        "#Menampilkan Cluster Tiap Pelanggan\n",
        "\n",
        "# Menampilkan data pelanggan berdasarkan cluster nya  \n",
        "for i in range(0, 5):  \n",
        "    print('\\nPelanggan cluster: {}\\n'.format(i))  \n",
        "    print(df_final[df_final['cluster']== i])"
      ]
    },
    {
      "cell_type": "code",
      "execution_count": 12,
      "id": "5b0b8b15",
      "metadata": {
        "colab": {
          "base_uri": "https://localhost:8080/",
          "height": 645
        },
        "id": "5b0b8b15",
        "outputId": "0ce6fa4e-1517-43ca-b1b9-d3fb3869265f"
      },
      "outputs": [
        {
          "output_type": "display_data",
          "data": {
            "text/plain": [
              "<Figure size 432x288 with 1 Axes>"
            ],
            "image/png": "[encoded data removed]"
          },
          "metadata": {}
        },
        {
          "output_type": "display_data",
          "data": {
            "text/plain": [
              "<Figure size 432x288 with 1 Axes>"
            ],
            "image/png": "[encoded data removed]"
          },
          "metadata": {}
        }
      ],
      "source": [
        "#Visualisasi Hasil Clustering - Box Plot\n",
        "\n",
        "# Data Numerical\n",
        "kolom_numerik = ['Umur','NilaiBelanjaSetahun']  \n",
        "  \n",
        "for i in kolom_numerik:  \n",
        "    plt.figure(figsize=(6,4))  \n",
        "    ax = sns.boxplot(x = 'cluster',y = i, data = df_final)  \n",
        "    plt. title ('\\nBox Plot {}\\n'.format(i), fontsize=12)  \n",
        "    plt.show() "
      ]
    },
    {
      "cell_type": "code",
      "execution_count": 13,
      "id": "e0ee26f8",
      "metadata": {
        "colab": {
          "base_uri": "https://localhost:8080/",
          "height": 959
        },
        "id": "e0ee26f8",
        "outputId": "ad8ba023-af33-4a7a-b57b-a70687100b6b"
      },
      "outputs": [
        {
          "output_type": "display_data",
          "data": {
            "text/plain": [
              "<Figure size 432x288 with 1 Axes>"
            ],
            "image/png": "[encoded data removed]"
          },
          "metadata": {}
        },
        {
          "output_type": "display_data",
          "data": {
            "text/plain": [
              "<Figure size 432x288 with 1 Axes>"
            ],
            "image/png": "[encoded data removed]"
          },
          "metadata": {}
        },
        {
          "output_type": "display_data",
          "data": {
            "text/plain": [
              "<Figure size 432x288 with 1 Axes>"
            ],
            "image/png": "[encoded data removed]"
          },
          "metadata": {}
        }
      ],
      "source": [
        "#Visualisasi Hasil Clustering - Count Plot\n",
        "\n",
        "# Data Kategorikal  \n",
        "kolom_categorical = ['Jenis Kelamin','Profesi','Tipe Residen']  \n",
        "  \n",
        "for i in kolom_categorical:  \n",
        "    plt.figure(figsize=(6,4))  \n",
        "    ax = sns.countplot(data = df_final, x = 'cluster', hue = i )  \n",
        "    plt.title('\\nCount Plot {}\\n'.format(i), fontsize=12)  \n",
        "    ax. legend (loc=\"upper center\")  \n",
        "    for p in ax.patches:  \n",
        "        ax.annotate(format(p.get_height(), '.0f'),  \n",
        "                    (p.get_x() + p.get_width() / 2., p.get_height()),  \n",
        "                     ha = 'center',  \n",
        "                     va = 'center',  \n",
        "                     xytext = (0, 10),  \n",
        "                     textcoords = 'offset points')  \n",
        "      \n",
        "    sns.despine(right=True,top = True, left = True)  \n",
        "    ax.axes.yaxis.set_visible(False)  \n",
        "    plt.show()"
      ]
    },
    {
      "cell_type": "code",
      "execution_count": 14,
      "id": "59b7337a",
      "metadata": {
        "colab": {
          "base_uri": "https://localhost:8080/"
        },
        "id": "59b7337a",
        "outputId": "acf4bf26-503d-4ab4-a210-7f41a9ff37a6"
      },
      "outputs": [
        {
          "output_type": "stream",
          "name": "stdout",
          "text": [
            "<class 'pandas.core.frame.DataFrame'>\n",
            "RangeIndex: 50 entries, 0 to 49\n",
            "Data columns (total 9 columns):\n",
            " #   Column               Non-Null Count  Dtype \n",
            "---  ------               --------------  ----- \n",
            " 0   Customer_ID          50 non-null     object\n",
            " 1   Nama Pelanggan       50 non-null     object\n",
            " 2   Jenis Kelamin        50 non-null     object\n",
            " 3   Umur                 50 non-null     int64 \n",
            " 4   Profesi              50 non-null     object\n",
            " 5   Tipe Residen         50 non-null     object\n",
            " 6   NilaiBelanjaSetahun  50 non-null     int64 \n",
            " 7   cluster              50 non-null     uint16\n",
            " 8   segmen               50 non-null     object\n",
            "dtypes: int64(2), object(6), uint16(1)\n",
            "memory usage: 3.3+ KB\n",
            "None\n",
            "  Customer_ID       Nama Pelanggan Jenis Kelamin  Umur       Profesi  \\\n",
            "0    CUST-001         Budi Anggara          Pria    58    Wiraswasta   \n",
            "1    CUST-002     Shirley Ratuwati        Wanita    14       Pelajar   \n",
            "2    CUST-003         Agus Cahyono          Pria    48  Professional   \n",
            "3    CUST-004     Antonius Winarta          Pria    53  Professional   \n",
            "4    CUST-005  Ibu Sri Wahyuni, IR        Wanita    41    Wiraswasta   \n",
            "\n",
            "  Tipe Residen  NilaiBelanjaSetahun  cluster                 segmen  \n",
            "0       Sector              9497927        3      Gold Young Member  \n",
            "1      Cluster              2722700        1  Diamond Senior Member  \n",
            "2      Cluster              5286429        2          Silver Member  \n",
            "3      Cluster              5204498        2          Silver Member  \n",
            "4      Cluster             10615206        0   Diamond Young Member  \n"
          ]
        }
      ],
      "source": [
        "#Menamakan Cluster\n",
        "\n",
        "# Mapping nama kolom  \n",
        "df_final['segmen'] = df_final['cluster'].map({  \n",
        "    0: 'Diamond Young Member',  \n",
        "    1: 'Diamond Senior Member',  \n",
        "    2: 'Silver Member',  \n",
        "    3: 'Gold Young Member',  \n",
        "    4: 'Gold Senior Member'  \n",
        "})  \n",
        "\n",
        "print(df_final.info())\n",
        "print(df_final.head())  "
      ]
    },
    {
      "cell_type": "markdown",
      "id": "43734cb7",
      "metadata": {
        "id": "43734cb7"
      },
      "source": [
        "MENGOPERASIKAN MODEL"
      ]
    },
    {
      "cell_type": "code",
      "execution_count": 15,
      "id": "71af0967",
      "metadata": {
        "colab": {
          "base_uri": "https://localhost:8080/"
        },
        "id": "71af0967",
        "outputId": "0713fa20-42df-4112-b6ec-bfd185d03f21"
      },
      "outputs": [
        {
          "output_type": "stream",
          "name": "stdout",
          "text": [
            "  Customer_ID Nama Pelanggan Jenis Kelamin  Umur     Profesi Tipe Residen  \\\n",
            "0    CUST-100           Joko          Pria    45  Wiraswasta      Cluster   \n",
            "\n",
            "   NilaiBelanjaSetahun  \n",
            "0              8230000  \n"
          ]
        }
      ],
      "source": [
        "#Mempersiapkan Data Baru\n",
        "\n",
        "import pandas as pd\n",
        "# Data Baru  \n",
        "data = [{  \n",
        "    'Customer_ID': 'CUST-100' ,  \n",
        "    'Nama Pelanggan': 'Joko' ,  \n",
        "    'Jenis Kelamin': 'Pria',  \n",
        "    'Umur': 45,  \n",
        "    'Profesi': 'Wiraswasta',  \n",
        "    'Tipe Residen': 'Cluster' ,  \n",
        "    'NilaiBelanjaSetahun': 8230000  \n",
        "      \n",
        "}]  \n",
        "  \n",
        "# Membuat Data Frame  \n",
        "new_df = pd.DataFrame(data)  \n",
        "  \n",
        "# Melihat Data  \n",
        "print(new_df)  "
      ]
    },
    {
      "cell_type": "code",
      "execution_count": 16,
      "id": "f9eea4d3",
      "metadata": {
        "colab": {
          "base_uri": "https://localhost:8080/"
        },
        "id": "f9eea4d3",
        "outputId": "248751fa-e35e-4fb3-f691-ddf5823fbbfe"
      },
      "outputs": [
        {
          "output_type": "stream",
          "name": "stdout",
          "text": [
            "   Jenis Kelamin  Profesi  Tipe Residen      Umur  NilaiBelanjaSetahun\n",
            "0              0        4             0  0.510204             0.447818\n"
          ]
        }
      ],
      "source": [
        "#Membuat Fungsi Data Pemrosesan\n",
        "\n",
        "import pandas as pd\n",
        "import seaborn as sns\n",
        "import matplotlib.pyplot as plt\n",
        "from kmodes.kmodes import KModes  \n",
        "from kmodes.kprototypes import KPrototypes  \n",
        "df = pd.read_csv(\"https://storage.googleapis.com/dqlab-dataset/customer_segments.txt\", sep=\"\\t\") \n",
        "df_model = pd.read_csv('https://storage.googleapis.com/dqlab-dataset/df-customer-segmentation.csv')\n",
        "kproto = KPrototypes(n_clusters=5, random_state = 75)  \n",
        "kproto = kproto.fit(df_model, categorical=[0,1,2])  \n",
        "\n",
        "clusters =  kproto.predict(df_model, categorical=[0,1,2]) \n",
        "df_final = df.copy()    \n",
        "df_final['cluster'] = clusters \n",
        "df_final['segmen'] = df_final['cluster'].map({  \n",
        "    0: 'Diamond Young Member',  \n",
        "    1: 'Diamond Senior Member',  \n",
        "    2: 'Silver Member',  \n",
        "    3: 'Gold Young Member',  \n",
        "    4: 'Gold Senior Member'  \n",
        "})  \n",
        "\n",
        "data = [{  \n",
        "    'Customer_ID': 'CUST-100' ,  \n",
        "    'Nama Pelanggan': 'Joko' ,  \n",
        "    'Jenis Kelamin': 'Pria',  \n",
        "    'Umur': 45,  \n",
        "    'Profesi': 'Wiraswasta',  \n",
        "    'Tipe Residen': 'Cluster' ,  \n",
        "    'NilaiBelanjaSetahun': 8230000  \n",
        "      \n",
        "}]\n",
        "new_df = pd.DataFrame(data) \n",
        "\n",
        "def data_preprocess(data):  \n",
        "    # Konversi Kategorikal data  \n",
        "    kolom_kategorikal = ['Jenis Kelamin','Profesi','Tipe Residen']  \n",
        "      \n",
        "    df_encode = data[kolom_kategorikal].copy()  \n",
        "  \n",
        "    ## Jenis Kelamin   \n",
        "    df_encode['Jenis Kelamin'] = df_encode['Jenis Kelamin'].map({  \n",
        "        'Pria': 0,  \n",
        "        'Wanita' : 1  \n",
        "    })  \n",
        "      \n",
        "    ## Profesi  \n",
        "    df_encode['Profesi'] = df_encode['Profesi'].map({  \n",
        "        'Ibu Rumah Tangga': 0,  \n",
        "        'Mahasiswa' : 1,  \n",
        "        'Pelajar': 2,  \n",
        "        'Professional': 3,  \n",
        "        'Wiraswasta': 4  \n",
        "    })  \n",
        "      \n",
        "    ## Tipe Residen  \n",
        "    df_encode['Tipe Residen'] = df_encode['Tipe Residen'].map({  \n",
        "        'Cluster': 0,  \n",
        "        'Sector' : 1  \n",
        "    })  \n",
        "      \n",
        "    # Standardisasi Numerical Data  \n",
        "    kolom_numerik = ['Umur','NilaiBelanjaSetahun']  \n",
        "    df_std = data[kolom_numerik].copy()  \n",
        "      \n",
        "    ## Standardisasi Kolom Umur  \n",
        "    df_std['Umur'] = (df_std['Umur'] - 37.5)/14.7  \n",
        "      \n",
        "    ## Standardisasi Kolom Nilai Belanja Setahun  \n",
        "    df_std['NilaiBelanjaSetahun'] = (df_std['NilaiBelanjaSetahun'] - 7069874.8)/2590619.0  \n",
        "      \n",
        "    # Menggabungkan Kategorikal dan numerikal data  \n",
        "    df_model = df_encode.merge(df_std, left_index = True,  \n",
        "                           right_index=True, how = 'left')  \n",
        "      \n",
        "    return df_model  \n",
        "  \n",
        "# Menjalankan fungsi  \n",
        "new_df_model = data_preprocess(new_df)  \n",
        "  \n",
        "print(new_df_model) "
      ]
    },
    {
      "cell_type": "code",
      "execution_count": 17,
      "id": "785de14f",
      "metadata": {
        "colab": {
          "base_uri": "https://localhost:8080/"
        },
        "id": "785de14f",
        "outputId": "ba87cdb8-5606-4141-e96e-a4875afe9b77"
      },
      "outputs": [
        {
          "output_type": "stream",
          "name": "stdout",
          "text": [
            "[3]\n"
          ]
        }
      ],
      "source": [
        "#Memanggil Model dan Melakukan Prediksi\n",
        "\n",
        "import pickle\n",
        "import pandas as pd\n",
        "data = [{  \n",
        "    'Customer_ID': 'CUST-100' ,  \n",
        "    'Nama Pelanggan': 'Joko' ,  \n",
        "    'Jenis Kelamin': 'Pria',  \n",
        "    'Umur': 45,  \n",
        "    'Profesi': 'Wiraswasta',  \n",
        "    'Tipe Residen': 'Cluster' ,  \n",
        "    'NilaiBelanjaSetahun': 8230000  \n",
        "      \n",
        "}]\n",
        "new_df = pd.DataFrame(data) \n",
        "\n",
        "def data_preprocess(data):\n",
        "    kolom_kategorikal = ['Jenis Kelamin','Profesi','Tipe Residen']\n",
        "    df_encode = data[kolom_kategorikal].copy()\n",
        "    df_encode['Jenis Kelamin'] = df_encode['Jenis Kelamin'].map({  \n",
        "        'Pria': 0,  \n",
        "        'Wanita' : 1  \n",
        "    })\n",
        "    df_encode['Profesi'] = df_encode['Profesi'].map({  \n",
        "        'Ibu Rumah Tangga': 0,  \n",
        "        'Mahasiswa' : 1,  \n",
        "        'Pelajar': 2,  \n",
        "        'Professional': 3,  \n",
        "        'Wiraswasta': 4  \n",
        "    }) \n",
        "    df_encode['Tipe Residen'] = df_encode['Tipe Residen'].map({  \n",
        "        'Cluster': 0,  \n",
        "        'Sector' : 1  \n",
        "    }) \n",
        "    kolom_numerik = ['Umur','NilaiBelanjaSetahun']  \n",
        "    df_std = data[kolom_numerik].copy()\n",
        "    df_std['Umur'] = (df_std['Umur'] - 37.5)/14.7 \n",
        "    df_std['NilaiBelanjaSetahun'] = (df_std['NilaiBelanjaSetahun'] - 7069874.8)/2590619.0\n",
        "    df_model = df_encode.merge(df_std, left_index = True,  \n",
        "                           right_index=True, how = 'left')  \n",
        "    return df_model  \n",
        "  \n",
        "new_df_model = data_preprocess(new_df)\n",
        "\n",
        "def modelling (data):  \n",
        "      \n",
        "    # Memanggil Model  \n",
        "    kpoto = pickle.load(open('cluster.pkl', 'rb'))  \n",
        "      \n",
        "    # Melakukan Prediksi  \n",
        "    clusters= kpoto. predict (data,categorical=[0,1,2])  \n",
        "      \n",
        "    return clusters  \n",
        "  \n",
        "# Menjalankan Fungsi  \n",
        "clusters = modelling(new_df_model)  \n",
        "  \n",
        "print(clusters)  "
      ]
    },
    {
      "cell_type": "code",
      "execution_count": 18,
      "id": "ca47afc9",
      "metadata": {
        "colab": {
          "base_uri": "https://localhost:8080/"
        },
        "id": "ca47afc9",
        "outputId": "cfa43722-d52b-4869-dc13-31296ee0dd7b"
      },
      "outputs": [
        {
          "output_type": "stream",
          "name": "stdout",
          "text": [
            "  Customer_ID Nama Pelanggan Jenis Kelamin  Umur     Profesi Tipe Residen  \\\n",
            "0    CUST-100           Joko          Pria    45  Wiraswasta      Cluster   \n",
            "\n",
            "   NilaiBelanjaSetahun  cluster             segmen  \n",
            "0              8230000        3  Gold Young Member  \n"
          ]
        }
      ],
      "source": [
        "#Menamakan Segmen\n",
        "\n",
        "import pickle\n",
        "import pandas as pd\n",
        "data = [{  \n",
        "    'Customer_ID': 'CUST-100' ,  \n",
        "    'Nama Pelanggan': 'Joko' ,  \n",
        "    'Jenis Kelamin': 'Pria',  \n",
        "    'Umur': 45,  \n",
        "    'Profesi': 'Wiraswasta',  \n",
        "    'Tipe Residen': 'Cluster' ,  \n",
        "    'NilaiBelanjaSetahun': 8230000  \n",
        "      \n",
        "}]\n",
        "new_df = pd.DataFrame(data) \n",
        "\n",
        "def data_preprocess(data):\n",
        "    kolom_kategorikal = ['Jenis Kelamin','Profesi','Tipe Residen']\n",
        "    df_encode = data[kolom_kategorikal].copy()\n",
        "    df_encode['Jenis Kelamin'] = df_encode['Jenis Kelamin'].map({  \n",
        "        'Pria': 0,  \n",
        "        'Wanita' : 1  \n",
        "    })\n",
        "    df_encode['Profesi'] = df_encode['Profesi'].map({  \n",
        "        'Ibu Rumah Tangga': 0,  \n",
        "        'Mahasiswa' : 1,  \n",
        "        'Pelajar': 2,  \n",
        "        'Professional': 3,  \n",
        "        'Wiraswasta': 4  \n",
        "    }) \n",
        "    df_encode['Tipe Residen'] = df_encode['Tipe Residen'].map({  \n",
        "        'Cluster': 0,  \n",
        "        'Sector' : 1  \n",
        "    }) \n",
        "    kolom_numerik = ['Umur','NilaiBelanjaSetahun']  \n",
        "    df_std = data[kolom_numerik].copy()\n",
        "    df_std['Umur'] = (df_std['Umur'] - 37.5)/14.7 \n",
        "    df_std['NilaiBelanjaSetahun'] = (df_std['NilaiBelanjaSetahun'] - 7069874.8)/2590619.0\n",
        "    df_model = df_encode.merge(df_std, left_index = True,  \n",
        "                           right_index=True, how = 'left')  \n",
        "    return df_model  \n",
        "  \n",
        "new_df_model = data_preprocess(new_df)  \n",
        "\n",
        "def modelling (data): \n",
        "    kpoto = pickle.load(open('cluster.pkl', 'rb'))\n",
        "    clusters = kpoto.predict(data,categorical=[0,1,2])  \n",
        "    return clusters  \n",
        "    \n",
        "clusters = modelling(new_df_model)\n",
        "\n",
        "def menamakan_segmen (data_asli, clusters):  \n",
        "      \n",
        "    # Menggabungkan cluster dan data asli  \n",
        "    final_df = data_asli.copy()  \n",
        "    final_df['cluster'] = clusters\n",
        "      \n",
        "    # Menamakan segmen  \n",
        "    final_df['segmen'] = final_df['cluster'].map({  \n",
        "        0: 'Diamond Young Member',  \n",
        "        1: 'Diamond Senior Member',  \n",
        "        2: 'Silver Students',  \n",
        "        3: 'Gold Young Member',  \n",
        "        4: 'Gold Senior Member'  \n",
        "    })  \n",
        "      \n",
        "    return final_df\n",
        "  \n",
        "# Menjalankan Fungsi  \n",
        "new_final_df = menamakan_segmen (new_df,clusters)  \n",
        "  \n",
        "print(new_final_df)  "
      ]
    },
    {
      "cell_type": "code",
      "execution_count": 19,
      "id": "dc5128be",
      "metadata": {
        "colab": {
          "base_uri": "https://localhost:8080/",
          "height": 177
        },
        "id": "dc5128be",
        "outputId": "4388a52e-f4e4-4511-e350-2d85841ad8fe"
      },
      "outputs": [
        {
          "output_type": "execute_result",
          "data": {
            "text/plain": [
              "  Customer_ID Nama Pelanggan Jenis Kelamin  Umur     Profesi Tipe Residen  \\\n",
              "0    CUST-100           Joko          Pria    45  Wiraswasta      Cluster   \n",
              "\n",
              "   NilaiBelanjaSetahun  cluster             segmen  \n",
              "0              8230000        3  Gold Young Member  "
            ],
            "text/html": [
              "\n",
              "  <div id=\"df-6d1ad717-6aeb-4d89-a15c-84119ccee984\">\n",
              "    <div class=\"colab-df-container\">\n",
              "      <div>\n",
              "<style scoped>\n",
              "    .dataframe tbody tr th:only-of-type {\n",
              "        vertical-align: middle;\n",
              "    }\n",
              "\n",
              "    .dataframe tbody tr th {\n",
              "        vertical-align: top;\n",
              "    }\n",
              "\n",
              "    .dataframe thead th {\n",
              "        text-align: right;\n",
              "    }\n",
              "</style>\n",
              "<table border=\"1\" class=\"dataframe\">\n",
              "  <thead>\n",
              "    <tr style=\"text-align: right;\">\n",
              "      <th></th>\n",
              "      <th>Customer_ID</th>\n",
              "      <th>Nama Pelanggan</th>\n",
              "      <th>Jenis Kelamin</th>\n",
              "      <th>Umur</th>\n",
              "      <th>Profesi</th>\n",
              "      <th>Tipe Residen</th>\n",
              "      <th>NilaiBelanjaSetahun</th>\n",
              "      <th>cluster</th>\n",
              "      <th>segmen</th>\n",
              "    </tr>\n",
              "  </thead>\n",
              "  <tbody>\n",
              "    <tr>\n",
              "      <th>0</th>\n",
              "      <td>CUST-100</td>\n",
              "      <td>Joko</td>\n",
              "      <td>Pria</td>\n",
              "      <td>45</td>\n",
              "      <td>Wiraswasta</td>\n",
              "      <td>Cluster</td>\n",
              "      <td>8230000</td>\n",
              "      <td>3</td>\n",
              "      <td>Gold Young Member</td>\n",
              "    </tr>\n",
              "  </tbody>\n",
              "</table>\n",
              "</div>\n",
              "      <button class=\"colab-df-convert\" onclick=\"convertToInteractive('df-6d1ad717-6aeb-4d89-a15c-84119ccee984')\"\n",
              "              title=\"Convert this dataframe to an interactive table.\"\n",
              "              style=\"display:none;\">\n",
              "        \n",
              "  <svg xmlns=\"http://www.w3.org/2000/svg\" height=\"24px\"viewBox=\"0 0 24 24\"\n",
              "       width=\"24px\">\n",
              "    <path d=\"M0 0h24v24H0V0z\" fill=\"none\"/>\n",
              "    <path d=\"M18.56 5.44l.94 2.06.94-2.06 2.06-.94-2.06-.94-.94-2.06-.94 2.06-2.06.94zm-11 1L8.5 8.5l.94-2.06 2.06-.94-2.06-.94L8.5 2.5l-.94 2.06-2.06.94zm10 10l.94 2.06.94-2.06 2.06-.94-2.06-.94-.94-2.06-.94 2.06-2.06.94z\"/><path d=\"M17.41 7.96l-1.37-1.37c-.4-.4-.92-.59-1.43-.59-.52 0-1.04.2-1.43.59L10.3 9.45l-7.72 7.72c-.78.78-.78 2.05 0 2.83L4 21.41c.39.39.9.59 1.41.59.51 0 1.02-.2 1.41-.59l7.78-7.78 2.81-2.81c.8-.78.8-2.07 0-2.86zM5.41 20L4 18.59l7.72-7.72 1.47 1.35L5.41 20z\"/>\n",
              "  </svg>\n",
              "      </button>\n",
              "      \n",
              "  <style>\n",
              "    .colab-df-container {\n",
              "      display:flex;\n",
              "      flex-wrap:wrap;\n",
              "      gap: 12px;\n",
              "    }\n",
              "\n",
              "    .colab-df-convert {\n",
              "      background-color: #E8F0FE;\n",
              "      border: none;\n",
              "      border-radius: 50%;\n",
              "      cursor: pointer;\n",
              "      display: none;\n",
              "      fill: #1967D2;\n",
              "      height: 32px;\n",
              "      padding: 0 0 0 0;\n",
              "      width: 32px;\n",
              "    }\n",
              "\n",
              "    .colab-df-convert:hover {\n",
              "      background-color: #E2EBFA;\n",
              "      box-shadow: 0px 1px 2px rgba(60, 64, 67, 0.3), 0px 1px 3px 1px rgba(60, 64, 67, 0.15);\n",
              "      fill: #174EA6;\n",
              "    }\n",
              "\n",
              "    [theme=dark] .colab-df-convert {\n",
              "      background-color: #3B4455;\n",
              "      fill: #D2E3FC;\n",
              "    }\n",
              "\n",
              "    [theme=dark] .colab-df-convert:hover {\n",
              "      background-color: #434B5C;\n",
              "      box-shadow: 0px 1px 3px 1px rgba(0, 0, 0, 0.15);\n",
              "      filter: drop-shadow(0px 1px 2px rgba(0, 0, 0, 0.3));\n",
              "      fill: #FFFFFF;\n",
              "    }\n",
              "  </style>\n",
              "\n",
              "      <script>\n",
              "        const buttonEl =\n",
              "          document.querySelector('#df-6d1ad717-6aeb-4d89-a15c-84119ccee984 button.colab-df-convert');\n",
              "        buttonEl.style.display =\n",
              "          google.colab.kernel.accessAllowed ? 'block' : 'none';\n",
              "\n",
              "        async function convertToInteractive(key) {\n",
              "          const element = document.querySelector('#df-6d1ad717-6aeb-4d89-a15c-84119ccee984');\n",
              "          const dataTable =\n",
              "            await google.colab.kernel.invokeFunction('convertToInteractive',\n",
              "                                                     [key], {});\n",
              "          if (!dataTable) return;\n",
              "\n",
              "          const docLinkHtml = 'Like what you see? Visit the ' +\n",
              "            '<a target=\"_blank\" href=https://colab.research.google.com/notebooks/data_table.ipynb>data table notebook</a>'\n",
              "            + ' to learn more about interactive tables.';\n",
              "          element.innerHTML = '';\n",
              "          dataTable['output_type'] = 'display_data';\n",
              "          await google.colab.output.renderOutput(dataTable, element);\n",
              "          const docLink = document.createElement('div');\n",
              "          docLink.innerHTML = docLinkHtml;\n",
              "          element.appendChild(docLink);\n",
              "        }\n",
              "      </script>\n",
              "    </div>\n",
              "  </div>\n",
              "  "
            ]
          },
          "metadata": {},
          "execution_count": 19
        }
      ],
      "source": [
        "new_final_df"
      ]
    }
  ],
  "metadata": {
    "kernelspec": {
      "display_name": "Python 3 (ipykernel)",
      "language": "python",
      "name": "python3"
    },
    "language_info": {
      "codemirror_mode": {
        "name": "ipython",
        "version": 3
      },
      "file_extension": ".py",
      "mimetype": "text/x-python",
      "name": "python",
      "nbconvert_exporter": "python",
      "pygments_lexer": "ipython3",
      "version": "3.9.7"
    },
    "colab": {
      "provenance": []
    }
  },
  "nbformat": 4,
  "nbformat_minor": 5
}